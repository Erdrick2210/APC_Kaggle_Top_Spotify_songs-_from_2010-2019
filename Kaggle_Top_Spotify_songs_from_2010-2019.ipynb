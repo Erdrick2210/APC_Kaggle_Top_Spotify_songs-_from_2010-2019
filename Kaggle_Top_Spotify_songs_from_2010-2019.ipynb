{
 "cells": [
  {
   "attachments": {},
   "cell_type": "markdown",
   "id": "e56f6ff2",
   "metadata": {},
   "source": [
    "# Kaggle Top Spotify songs from 2010-2019\n",
    "\n",
    "https://www.kaggle.com/leonardopena/top-spotify-songs-from-20102019-by-year\n",
    "\n",
    "## Objectiu\n",
    "\n",
    "Utilitzar la base de dades de Kaggle del Top Spotify songs from 2010-2019 per entrenar un classificador que ens digui a quin percentatge de popularitat pot pèrtanyer una nova canço de spotify segons les seves dades. És a dir, pel nostre case el target serà l'atribut \"pop\".\n",
    "\n",
    "## Continguts\n",
    "\n",
    "1. EDA i Preprocessing\n",
    "* Anàlisi de tamany i tipologia de dades\n",
    "* Encoding de categòriques\n",
    "* Valoració de correlacions\n",
    "* Normalització\n",
    "\n",
    "2. Metric Selection\n",
    "* Separació de les dades\n",
    "* Selecció de la millor mètrica\n",
    "* Visualització de ROC/AUC\n",
    "\n",
    "3. Model Selection i Crossvalidation\n",
    "* Selecció del millor model\n",
    "* Cerca d'hiperparàmetres\n",
    "\n",
    "4. Anàlisi Final"
   ]
  },
  {
   "cell_type": "markdown",
   "id": "c012eeab",
   "metadata": {},
   "source": [
    "Primer de tot, importem llibreries essencials, a més de les dades i observem que s'han importat correctament. Ho veiem a continuació:"
   ]
  },
  {
   "cell_type": "code",
   "execution_count": 12,
   "id": "8c8ed668",
   "metadata": {},
   "outputs": [
    {
     "name": "stdout",
     "output_type": "stream",
     "text": [
      "Unnamed: 0     int64\n",
      "title         object\n",
      "artist        object\n",
      "top genre     object\n",
      "year           int64\n",
      "bpm            int64\n",
      "nrgy           int64\n",
      "dnce           int64\n",
      "dB             int64\n",
      "live           int64\n",
      "val            int64\n",
      "dur            int64\n",
      "acous          int64\n",
      "spch           int64\n",
      "pop            int64\n",
      "dtype: object\n",
      "   Unnamed: 0                 title      artist        top genre  year  bpm  \\\n",
      "0           1      Hey, Soul Sister       Train       neo mellow  2010   97   \n",
      "1           2  Love The Way You Lie      Eminem  detroit hip hop  2010   87   \n",
      "2           3               TiK ToK       Kesha        dance pop  2010  120   \n",
      "3           4           Bad Romance   Lady Gaga        dance pop  2010  119   \n",
      "4           5  Just the Way You Are  Bruno Mars              pop  2010  109   \n",
      "\n",
      "   nrgy  dnce  dB  live  val  dur  acous  spch  pop  \n",
      "0    89    67  -4     8   80  217     19     4   83  \n",
      "1    93    75  -5    52   64  263     24    23   82  \n",
      "2    84    76  -3    29   71  200     10    14   80  \n",
      "3    92    70  -4     8   71  295      0     4   79  \n",
      "4    84    64  -5     9   43  221      2     4   78  \n"
     ]
    }
   ],
   "source": [
    "import numpy as np\n",
    "import pandas as pd\n",
    "import seaborn as sns\n",
    "import matplotlib.pylab as plt\n",
    "from sklearn.preprocessing import LabelEncoder\n",
    "\n",
    "df=pd.read_csv(\"top10s.csv\", encoding='latin1')\n",
    "\n",
    "print(df.dtypes)\n",
    "print(df.head())"
   ]
  },
  {
   "cell_type": "markdown",
   "id": "16d5ab9c",
   "metadata": {},
   "source": [
    "## 1. EDA i Preprocessing\n",
    "\n",
    "### - Anàlisi de tamany i tipologia de dades\n",
    "\n",
    "Mirem quantes mostres i quants atributs té la nostre base de dades i què significa cadascun."
   ]
  },
  {
   "cell_type": "code",
   "execution_count": 20,
   "id": "c25dd3f2",
   "metadata": {},
   "outputs": [
    {
     "name": "stdout",
     "output_type": "stream",
     "text": [
      "Número de mostres: 603\n",
      "Número d'atributs: 15\n"
     ]
    }
   ],
   "source": [
    "print(\"Número de mostres:\", df.shape[0])\n",
    "print(\"Número d'atributs:\", df.columns.shape[0])"
   ]
  },
  {
   "cell_type": "markdown",
   "id": "be7a71b2",
   "metadata": {},
   "source": [
    "-Unnamed: ID\n",
    "\n",
    "-title: Song's title\n",
    "\n",
    "-artist: Song's artist\n",
    "\n",
    "-top genre: The genre of the track\n",
    "\n",
    "-year: Song's year in the Billboard\n",
    "\n",
    "-bpm: Beats.Per.Minute - The tempo of the song\n",
    "\n",
    "-nrgy: Energy- The energy of a song - the higher the value, the more energtic. song\n",
    "\n",
    "-dnce: Danceability - The higher the value, the easier it is to dance to this song\n",
    "\n",
    "-dB: Loudness..dB.. - The higher the value, the louder the song\n",
    "\n",
    "-live: Liveness - The higher the value, the more likely the song is a live recording\n",
    "\n",
    "-val: Valence - The higher the value, the more positive mood for the song\n",
    "\n",
    "-dur: Length - The duration of the song\n",
    "\n",
    "-acous: Acousticness.. - The higher the value the more acoustic the song is\n",
    "\n",
    "-spch: Speechiness - The higher the value the more spoken word the song contains\n",
    "\n",
    "-pop: Popularity- The higher the value the more popular the song is"
   ]
  },
  {
   "cell_type": "markdown",
   "id": "4c16dacc",
   "metadata": {},
   "source": [
    " "
   ]
  },
  {
   "cell_type": "markdown",
   "id": "d2c7668d",
   "metadata": {},
   "source": [
    "El tipus d'atributs que tenim són:"
   ]
  },
  {
   "cell_type": "code",
   "execution_count": 6,
   "id": "c6180cd4",
   "metadata": {},
   "outputs": [
    {
     "name": "stdout",
     "output_type": "stream",
     "text": [
      "Unnamed: 0     int64\n",
      "title         object\n",
      "artist        object\n",
      "top genre     object\n",
      "year           int64\n",
      "bpm            int64\n",
      "nrgy           int64\n",
      "dnce           int64\n",
      "dB             int64\n",
      "live           int64\n",
      "val            int64\n",
      "dur            int64\n",
      "acous          int64\n",
      "spch           int64\n",
      "pop            int64\n",
      "dtype: object\n"
     ]
    }
   ],
   "source": [
    "print(df.dtypes)"
   ]
  },
  {
   "cell_type": "markdown",
   "id": "41118f77",
   "metadata": {},
   "source": [
    "-Categòrics: title, artist i top genre\n",
    "    \n",
    "-Numèrics: ID, year, bpm, nrgy, dnce, dB, live, val, dur, acous, spch i pop"
   ]
  },
  {
   "cell_type": "markdown",
   "id": "06e72645",
   "metadata": {},
   "source": [
    " "
   ]
  },
  {
   "cell_type": "markdown",
   "id": "ebd6142b",
   "metadata": {},
   "source": [
    "Tenim NaNs a les dades?"
   ]
  },
  {
   "cell_type": "code",
   "execution_count": 8,
   "id": "f4772f9e",
   "metadata": {},
   "outputs": [
    {
     "name": "stdout",
     "output_type": "stream",
     "text": [
      "Unnamed: 0    0\n",
      "title         0\n",
      "artist        0\n",
      "top genre     0\n",
      "year          0\n",
      "bpm           0\n",
      "nrgy          0\n",
      "dnce          0\n",
      "dB            0\n",
      "live          0\n",
      "val           0\n",
      "dur           0\n",
      "acous         0\n",
      "spch          0\n",
      "pop           0\n",
      "dtype: int64\n"
     ]
    }
   ],
   "source": [
    "print(df.isna().sum())"
   ]
  },
  {
   "cell_type": "markdown",
   "id": "94bb2052",
   "metadata": {},
   "source": [
    "Sorprenentment no tenim NaNs a les dades, així que no hem de tractar res en aquest cas."
   ]
  },
  {
   "cell_type": "markdown",
   "id": "1efd1925",
   "metadata": {},
   "source": [
    "### - Encoding de categòriques"
   ]
  },
  {
   "cell_type": "markdown",
   "id": "78ef38c1",
   "metadata": {},
   "source": [
    "Anem a analitzar una mica més les variables categòriques. Analitzem quines cançons es repeteixen perquè apareixen en anys diferents i mirem si l'artista i popularitat coincideixen."
   ]
  },
  {
   "cell_type": "code",
   "execution_count": 44,
   "id": "a9866013",
   "metadata": {
    "scrolled": false
   },
   "outputs": [
    {
     "name": "stdout",
     "output_type": "stream",
     "text": [
      "                                               title             artist  pop\n",
      "239  A Little Party Never Killed Nobody (All We Got)             Fergie   65\n",
      "178  A Little Party Never Killed Nobody (All We Got)             Fergie   65\n",
      "398                                        All I Ask              Adele   71\n",
      "473                                        All I Ask              Adele   71\n",
      "95           Castle Walls (feat. Christina Aguilera)               T.I.   49\n",
      "48           Castle Walls (feat. Christina Aguilera)               T.I.   49\n",
      "301                                          Company      Justin Bieber   72\n",
      "396                                          Company      Justin Bieber   72\n",
      "548                                       First Time               Kygo   71\n",
      "474                                       First Time               Kygo   71\n",
      "295                                            Hello              Adele   73\n",
      "50                                             Hello     Martin Solveig    0\n",
      "404                                             Here       Alessia Cara   68\n",
      "315                                             Here       Alessia Cara   68\n",
      "27                                         I Like It   Enrique Iglesias   63\n",
      "510                                        I Like It            Cardi B   85\n",
      "54                              Just the Way You Are         Bruno Mars   78\n",
      "4                               Just the Way You Are         Bruno Mars   78\n",
      "488                                Kissing Strangers               DNCE   66\n",
      "557                                Kissing Strangers               DNCE   66\n",
      "271                                    Love Yourself      Justin Bieber   83\n",
      "364                                    Love Yourself      Justin Bieber   83\n",
      "11                                         Marry You         Bruno Mars   73\n",
      "64                                         Marry You         Bruno Mars   73\n",
      "310                            Runnin' (Lose It All)        Naughty Boy   69\n",
      "403                            Runnin' (Lose It All)        Naughty Boy   69\n",
      "541                                    Say Something  Justin Timberlake   74\n",
      "249                                    Say Something  A Great Big World   61\n",
      "280                                         Stitches       Shawn Mendes   78\n",
      "378                                         Stitches       Shawn Mendes   78\n",
      "322                                            Sugar           Maroon 5   66\n",
      "274                                            Sugar           Maroon 5   81\n",
      "363                                        The Hills         The Weeknd   84\n",
      "270                                        The Hills         The Weeknd   84\n",
      "113          We Are Never Ever Getting Back Together       Taylor Swift   75\n",
      "152          We Are Never Ever Getting Back Together       Taylor Swift   75\n",
      "93          Written in the Stars (feat. Eric Turner)       Tinie Tempah   52\n",
      "46          Written in the Stars (feat. Eric Turner)       Tinie Tempah   52\n"
     ]
    }
   ],
   "source": [
    "# Contem quantes vegades es repeteix cada títol\n",
    "frequencia_titol = df['title'].value_counts()\n",
    "\n",
    "# Filtrem els títols que es repeteixen més d'una vegada\n",
    "titols_repetits = frequencia_titol[frequencia_titol > 1].index\n",
    "\n",
    "# Filtrem les files que corresponen a aquests titols repetits\n",
    "files_repetides = df[df['title'].isin(titols_repetits)]\n",
    "\n",
    "# Mostrem les files\n",
    "print(files_repetides[['title', 'artist', 'pop']].sort_values(by='title'))"
   ]
  },
  {
   "cell_type": "markdown",
   "id": "0cf65a12",
   "metadata": {},
   "source": []
  },
  {
   "cell_type": "code",
   "execution_count": 45,
   "id": "430e5bdc",
   "metadata": {},
   "outputs": [
    {
     "name": "stdout",
     "output_type": "stream",
     "text": [
      "artist\n",
      "Katy Perry             17\n",
      "Justin Bieber          16\n",
      "Rihanna                15\n",
      "Maroon 5               15\n",
      "Lady Gaga              14\n",
      "                       ..\n",
      "Iggy Azalea             1\n",
      "5 Seconds of Summer     1\n",
      "Michael Jackson         1\n",
      "Disclosure              1\n",
      "Daddy Yankee            1\n",
      "Name: count, Length: 184, dtype: int64\n"
     ]
    }
   ],
   "source": [
    "print(df['artist'].value_counts())"
   ]
  },
  {
   "cell_type": "code",
   "execution_count": null,
   "id": "fd062cbb",
   "metadata": {},
   "outputs": [],
   "source": []
  }
 ],
 "metadata": {
  "kernelspec": {
   "display_name": "Python 3 (ipykernel)",
   "language": "python",
   "name": "python3"
  },
  "language_info": {
   "codemirror_mode": {
    "name": "ipython",
    "version": 3
   },
   "file_extension": ".py",
   "mimetype": "text/x-python",
   "name": "python",
   "nbconvert_exporter": "python",
   "pygments_lexer": "ipython3",
   "version": "3.11.5"
  }
 },
 "nbformat": 4,
 "nbformat_minor": 5
}
